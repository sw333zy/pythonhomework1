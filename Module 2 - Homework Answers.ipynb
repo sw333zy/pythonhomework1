{
 "cells": [
  {
   "cell_type": "markdown",
   "id": "320c5c4e",
   "metadata": {},
   "source": [
    "### Homework #2 Answers"
   ]
  },
  {
   "cell_type": "markdown",
   "id": "1a8793dc",
   "metadata": {},
   "source": [
    "1. Round 4.5667 to the nearest hundreth (2 decimals) using a build-in function, round()."
   ]
  },
  {
   "cell_type": "code",
   "execution_count": 2,
   "id": "8f9949a9",
   "metadata": {},
   "outputs": [
    {
     "data": {
      "text/plain": [
       "4.5667"
      ]
     },
     "execution_count": 2,
     "metadata": {},
     "output_type": "execute_result"
    }
   ],
   "source": [
    "round(4.5667, 4)"
   ]
  },
  {
   "cell_type": "markdown",
   "id": "63777e6c",
   "metadata": {},
   "source": [
    "2. Convert \"657\" to an integer data type"
   ]
  },
  {
   "cell_type": "code",
   "execution_count": 3,
   "id": "b6cd6198",
   "metadata": {},
   "outputs": [
    {
     "name": "stdout",
     "output_type": "stream",
     "text": [
      "657\n"
     ]
    }
   ],
   "source": [
    "convert = int(\"657\")\n",
    "print(convert)"
   ]
  },
  {
   "cell_type": "markdown",
   "id": "c12be6bb",
   "metadata": {},
   "source": [
    "3. Write a program to get two numbers from a user. Then, create a 6-digit code that is a series of randomly generated numbers between the two numbers given by the user. Print the 6-digit code so all digits are separated by a dash. "
   ]
  },
  {
   "cell_type": "code",
   "execution_count": 6,
   "id": "4e72d7df",
   "metadata": {},
   "outputs": [
    {
     "name": "stdout",
     "output_type": "stream",
     "text": [
      "Enter a number: 1\n",
      "Enter another number: 100\n",
      "The secret code is: 16-84-67-22-24-51\n"
     ]
    }
   ],
   "source": [
    "\n",
    "n1 = int(input(\"Enter a number: \"))\n",
    "n2 = int(input(\"Enter another number: \"))\n",
    "import random as rand\n",
    "d1 = rand.randint(n1, n2)\n",
    "d2 = rand.randint(n1, n2)\n",
    "d3 = rand.randint(n1, n2)\n",
    "d4 = rand.randint(n1, n2)\n",
    "d5 = rand.randint(n1, n2)\n",
    "d6 = rand.randint(n1, n2)\n",
    "\n",
    "\n",
    "print(f\"The secret code is: {d1}-{d2}-{d3}-{d4}-{d5}-{d6}\")"
   ]
  },
  {
   "cell_type": "markdown",
   "id": "c033f843",
   "metadata": {},
   "source": [
    "4. Write a program to remove ALL the white spaces from the following text:\n",
    "\n",
    "        Hickory, dickory, dock,     \n",
    "        The mouse ran up the clock.   \n",
    "        The clock struck one,   \n",
    "        The mouse ran down,                      \n",
    "        Hickory, dickory, dock                  "
   ]
  },
  {
   "cell_type": "code",
   "execution_count": 7,
   "id": "26d5485e",
   "metadata": {},
   "outputs": [],
   "source": [
    "line1 = \"\"\"Hickory, dickory, dock,     \n",
    " The mouse ran up the clock.   \n",
    " The clock struck one,   \n",
    " The mouse ran down,                      \n",
    " Hickory, dickory, dock\"\"\""
   ]
  },
  {
   "cell_type": "code",
   "execution_count": 8,
   "id": "cbe4f245",
   "metadata": {},
   "outputs": [
    {
     "name": "stdout",
     "output_type": "stream",
     "text": [
      "Hickory, dickory, dock,     \n",
      " The mouse ran up the clock.   \n",
      " The clock struck one,   \n",
      " The mouse ran down,                      \n",
      " Hickory, dickory, dock\n"
     ]
    }
   ],
   "source": [
    "print(line1)"
   ]
  },
  {
   "cell_type": "code",
   "execution_count": 9,
   "id": "2d1abe70",
   "metadata": {},
   "outputs": [
    {
     "name": "stdout",
     "output_type": "stream",
     "text": [
      "Hickory,dickory,dock,\n",
      "Themouseranuptheclock.\n",
      "Theclockstruckone,\n",
      "Themouserandown,\n",
      "Hickory,dickory,dock\n"
     ]
    }
   ],
   "source": [
    "print(line1.strip().replace(\" \", \"\"))\n"
   ]
  },
  {
   "cell_type": "markdown",
   "id": "8137d4e3",
   "metadata": {},
   "source": [
    "5. Write a function to calculate the miles per gallon. Get a miles driven and gallons used from a user and call your function to calculate the miles per gallon."
   ]
  },
  {
   "cell_type": "code",
   "execution_count": 11,
   "id": "09e5491a",
   "metadata": {},
   "outputs": [
    {
     "name": "stdout",
     "output_type": "stream",
     "text": [
      "Please enter the number of miles driven:\t40\n",
      "Please enter the number of gallons used:\t2\n",
      "\n",
      "Miles Driven per Gallon\n",
      "\n",
      "40.0 miles / 2.0 gallons = 20.00 miles per gallon\n"
     ]
    }
   ],
   "source": [
    "def mpg():\n",
    "    miles = float(input(\"Please enter the number of miles driven:\\t\"))\n",
    "    gal = float(input(\"Please enter the number of gallons used:\\t\"))\n",
    "    mpg = miles/gal\n",
    "    print(\"\\nMiles Driven per Gallon\\n\")\n",
    "    print(f\"{miles} miles / {gal} gallons = {mpg:.2f} miles per gallon\")\n",
    "    \n",
    "## call the mpg() function \n",
    "mpg()"
   ]
  },
  {
   "cell_type": "markdown",
   "id": "3641747a",
   "metadata": {},
   "source": [
    "6. Enhance the <b>compute()</b> function created during Module 2. Enhance the function to compute a circle's area and circumference where:\n",
    "\n",
    " - circle's area = 3.14 X (radius X radius)   \n",
    " - circle's circumference = 3.14 X diameter"
   ]
  },
  {
   "cell_type": "code",
   "execution_count": 14,
   "id": "35fdedcb",
   "metadata": {},
   "outputs": [
    {
     "name": "stdout",
     "output_type": "stream",
     "text": [
      "Please enter length 50\n",
      "Please enter width 100\n",
      "Area is 5000\n",
      "Perimeter is 300\n"
     ]
    }
   ],
   "source": [
    "# original compute() function\n",
    "\n",
    "def compute():\n",
    "    l = int(input(\"Please enter length \"))\n",
    "    w = int(input(\"Please enter width \"))\n",
    "    A = l * w\n",
    "    P = 2 * (l + w)\n",
    "    print(f\"Area is {A}\")\n",
    "    print(f\"Perimeter is {P}\")\n",
    "\n",
    "compute()"
   ]
  },
  {
   "cell_type": "code",
   "execution_count": 15,
   "id": "1a24fa6b",
   "metadata": {},
   "outputs": [
    {
     "name": "stdout",
     "output_type": "stream",
     "text": [
      "Please enter the circle radius: 30\n",
      "\n",
      "Circle Information\n",
      "The radius is: 30.0 and the diameter is: 60.0\n",
      "Area is 2826.000\n",
      "Circumference is 188.400\n"
     ]
    }
   ],
   "source": [
    "# circle compute() function\n",
    "\n",
    "# pi = 3.14\n",
    "# r = radius\n",
    "# diameter = 2 * radius\n",
    "\n",
    "\n",
    "def compute():\n",
    "    r = float(input(\"Please enter the circle radius: \"))\n",
    "    pi = 3.14\n",
    "    A = pi * (r * r)\n",
    "    C = pi * (2 * r)\n",
    "    print (f\"\\nCircle Information\")\n",
    "    print (f\"The radius is: {r} and the diameter is: {2 * r}\")\n",
    "    print(f\"Area is {A:.3f}\")\n",
    "    print(f\"Circumference is {C:.3f}\")\n",
    "    \n",
    "compute()"
   ]
  },
  {
   "cell_type": "markdown",
   "id": "5964e7f1",
   "metadata": {},
   "source": [
    "7. Write a function called multiply_two() that accepts two parameters. The function should print a message like '15 * 2 = 30'.  Randomly generate two numbers between 1 and 100, then call the function with the two random numbers."
   ]
  },
  {
   "cell_type": "code",
   "execution_count": 2,
   "id": "5ecd596e",
   "metadata": {},
   "outputs": [],
   "source": [
    "import random as rand"
   ]
  },
  {
   "cell_type": "code",
   "execution_count": 5,
   "id": "1030a8ac",
   "metadata": {},
   "outputs": [
    {
     "name": "stdout",
     "output_type": "stream",
     "text": [
      "44 * 99 = 4356\n"
     ]
    }
   ],
   "source": [
    "def multiply_two(x, y):\n",
    "    print(f\"{x} * {y} = {x * y}\")\n",
    "    \n",
    "happy = rand.randint(1, 100)\n",
    "puppy = rand.randint(1, 100)\n",
    "\n",
    "multiply_two(puppy, happy)"
   ]
  },
  {
   "cell_type": "markdown",
   "id": "80076006",
   "metadata": {},
   "source": [
    "8. Create a function for a multiplication table.  Get a number from a user and then call you function which produces a multiplication table for that number.\n",
    "The output should look something like this:\n",
    "\n",
    "        Enter a number: 3\n",
    "        3 X 1 = 3\n",
    "        3 X 2 = 6\n",
    "        3 X 3 = 9\n",
    "        3 X 4 = 12\n",
    "        3 X 5 = 15\n",
    "        3 X 6 = 18\n",
    "        3 X 7 = 21\n",
    "        3 X 8 = 24\n",
    "        3 X 9 = 27"
   ]
  },
  {
   "cell_type": "code",
   "execution_count": 8,
   "id": "ca2e9e2c",
   "metadata": {},
   "outputs": [],
   "source": [
    "def mult_table(x):\n",
    "    print(f\"{x} X 1 = {x * 1}\")\n",
    "    print(f\"{x} X 2 = {x * 2}\")\n",
    "    print(f\"{x} X 3 = {x * 3}\")\n",
    "    print(f\"{x} X 4 = {x * 4}\")\n",
    "    print(f\"{x} X 5 = {x * 5}\")\n",
    "    print(f\"{x} X 6 = {x * 6}\")\n",
    "    print(f\"{x} X 7 = {x * 7}\")\n",
    "    print(f\"{x} X 8 = {x * 8}\")\n",
    "    print(f\"{x} X 9 = {x * 9}\")"
   ]
  },
  {
   "cell_type": "code",
   "execution_count": 9,
   "id": "e893a176",
   "metadata": {},
   "outputs": [
    {
     "name": "stdout",
     "output_type": "stream",
     "text": [
      "Enter a number: 8\n",
      "8 X 1 = 8\n",
      "8 X 2 = 16\n",
      "8 X 3 = 24\n",
      "8 X 4 = 32\n",
      "8 X 5 = 40\n",
      "8 X 6 = 48\n",
      "8 X 7 = 56\n",
      "8 X 8 = 64\n",
      "8 X 9 = 72\n"
     ]
    }
   ],
   "source": [
    "num = int(input(\"Enter a number: \"))\n",
    "\n",
    "mult_table(num)"
   ]
  },
  {
   "cell_type": "code",
   "execution_count": null,
   "id": "ccbfb238",
   "metadata": {},
   "outputs": [],
   "source": []
  }
 ],
 "metadata": {
  "kernelspec": {
   "display_name": "Python 3",
   "language": "python",
   "name": "python3"
  },
  "language_info": {
   "codemirror_mode": {
    "name": "ipython",
    "version": 3
   },
   "file_extension": ".py",
   "mimetype": "text/x-python",
   "name": "python",
   "nbconvert_exporter": "python",
   "pygments_lexer": "ipython3",
   "version": "3.8.8"
  }
 },
 "nbformat": 4,
 "nbformat_minor": 5
}
